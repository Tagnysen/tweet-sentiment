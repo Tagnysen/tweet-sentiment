{
 "cells": [
  {
   "cell_type": "markdown",
   "metadata": {},
   "source": [
    "## Construction des features et Word embedding"
   ]
  },
  {
   "cell_type": "code",
   "execution_count": 12,
   "metadata": {},
   "outputs": [],
   "source": [
    "import time\n",
    "import pandas as pd\n",
    "import numpy as np\n",
    "import warnings\n",
    "warnings.filterwarnings('ignore')"
   ]
  },
  {
   "cell_type": "markdown",
   "metadata": {},
   "source": [
    "#### Lecture des données"
   ]
  },
  {
   "cell_type": "code",
   "execution_count": 14,
   "metadata": {},
   "outputs": [],
   "source": [
    "data_train = pd.read_csv(\"../tweet_data/train.csv\").fillna(\"\")\n",
    "data_train_clean_stem = pd.read_csv(\"../tweet_data/train_clean_stem.csv\").fillna(\"\")\n",
    "data_test_clean_stem = pd.read_csv(\"../tweet_data/test_clean_stem.csv\").fillna(\"\")"
   ]
  },
  {
   "cell_type": "code",
   "execution_count": 139,
   "metadata": {},
   "outputs": [],
   "source": [
    "# Colonne \"text\" en matrices pour l'extraction de features\n",
    "text_train_array = data_train_clean_stem[\"text_clean\"].values\n",
    "label_train_array = data_train_clean_stem[\"sentiment\"].values\n",
    "text_test_array = data_test_clean_stem[\"text_clean\"].values\n",
    "label_test_array = data_test_clean_stem[\"sentiment\"].values"
   ]
  },
  {
   "cell_type": "markdown",
   "metadata": {},
   "source": [
    "## Features with tensorflow tokenizer"
   ]
  },
  {
   "cell_type": "code",
   "execution_count": 19,
   "metadata": {},
   "outputs": [],
   "source": [
    "from tensorflow.keras.preprocessing.text import Tokenizer\n",
    "from tensorflow.keras.preprocessing.sequence import pad_sequences"
   ]
  },
  {
   "cell_type": "markdown",
   "metadata": {},
   "source": [
    "### Tokenization"
   ]
  },
  {
   "cell_type": "code",
   "execution_count": 181,
   "metadata": {},
   "outputs": [],
   "source": [
    "vocab_size = 20000\n",
    "embedding_dim = 64\n",
    "max_length = 150\n",
    "trunc_type='post'\n",
    "oov_tok = \"<OOV>\"\n",
    "\n",
    "\n",
    "from tensorflow.keras.preprocessing.text import Tokenizer\n",
    "from tensorflow.keras.preprocessing.sequence import pad_sequences\n",
    "\n",
    "tokenizer = Tokenizer(num_words = vocab_size, oov_token=oov_tok)\n",
    "tokenizer.fit_on_texts(text_train_array)\n",
    "word_index = tokenizer.word_index\n",
    "sequences = tokenizer.texts_to_sequences(text_train_array)\n",
    "padded = pad_sequences(sequences,maxlen=max_length, truncating=trunc_type)\n",
    "\n",
    "testing_sequences = tokenizer.texts_to_sequences(text_test_array)\n",
    "testing_padded = pad_sequences(testing_sequences,maxlen=max_length)"
   ]
  },
  {
   "cell_type": "code",
   "execution_count": 182,
   "metadata": {
    "scrolled": true
   },
   "outputs": [
    {
     "name": "stdout",
     "output_type": "stream",
     "text": [
      "labels sequences size : 27486\n",
      "{'neutral': 1, 'positive': 2, 'negative': 3}\n"
     ]
    }
   ],
   "source": [
    "label_tokenizer = Tokenizer()\n",
    "label_tokenizer.fit_on_texts(label_train_array)\n",
    "label_word_index = label_tokenizer.word_index\n",
    "label_train_sequences = label_tokenizer.texts_to_sequences(label_train_array)\n",
    "print('labels sequences size :', len(label_train_sequences))\n",
    "print(label_word_index)"
   ]
  },
  {
   "cell_type": "code",
   "execution_count": 183,
   "metadata": {},
   "outputs": [],
   "source": [
    "label_test_sequences = label_tokenizer.texts_to_sequences(label_test_array)"
   ]
  },
  {
   "cell_type": "code",
   "execution_count": 184,
   "metadata": {},
   "outputs": [],
   "source": [
    "# change to one-dimensional array\n",
    "label_train_sequences = np.reshape(np.array(label_train_sequences), len(label_train_sequences))\n",
    "label_test_sequences = np.reshape(np.array(label_test_sequences), len(label_test_sequences))\n",
    "# in order to values in range[0,3] then 'neutral': 0, 'positive': 1, 'negative': 2\n",
    "label_train_sequences = label_train_sequences - 1.0\n",
    "label_test_sequences = label_test_sequences - 1.0"
   ]
  },
  {
   "cell_type": "code",
   "execution_count": 185,
   "metadata": {},
   "outputs": [
    {
     "data": {
      "text/plain": [
       "array([1., 1., 1., ..., 0., 2., 0.])"
      ]
     },
     "execution_count": 185,
     "metadata": {},
     "output_type": "execute_result"
    }
   ],
   "source": [
    "label_test_sequences"
   ]
  },
  {
   "cell_type": "markdown",
   "metadata": {},
   "source": [
    "## Word embedding and classification"
   ]
  },
  {
   "cell_type": "code",
   "execution_count": null,
   "metadata": {},
   "outputs": [],
   "source": []
  },
  {
   "cell_type": "code",
   "execution_count": 186,
   "metadata": {},
   "outputs": [
    {
     "name": "stdout",
     "output_type": "stream",
     "text": [
      "2.0.0-alpha0\n"
     ]
    }
   ],
   "source": [
    "import tensorflow as tf\n",
    "print(tf.__version__)"
   ]
  },
  {
   "cell_type": "code",
   "execution_count": 187,
   "metadata": {},
   "outputs": [
    {
     "name": "stdout",
     "output_type": "stream",
     "text": [
      "Model: \"sequential_15\"\n",
      "_________________________________________________________________\n",
      "Layer (type)                 Output Shape              Param #   \n",
      "=================================================================\n",
      "embedding_15 (Embedding)     (None, 150, 64)           1280000   \n",
      "_________________________________________________________________\n",
      "global_average_pooling1d_3 ( (None, 64)                0         \n",
      "_________________________________________________________________\n",
      "dense_30 (Dense)             (None, 10)                650       \n",
      "_________________________________________________________________\n",
      "dense_31 (Dense)             (None, 3)                 33        \n",
      "=================================================================\n",
      "Total params: 1,280,683\n",
      "Trainable params: 1,280,683\n",
      "Non-trainable params: 0\n",
      "_________________________________________________________________\n"
     ]
    }
   ],
   "source": [
    "model = tf.keras.Sequential([\n",
    "    tf.keras.layers.Embedding(vocab_size, embedding_dim, input_length=max_length),\n",
    "    tf.keras.layers.GlobalAveragePooling1D(),  # tf.keras.layers.Flatten(),\n",
    "    tf.keras.layers.Dense(10, activation='relu'),\n",
    "    tf.keras.layers.Dense(3, activation=tf.nn.softmax)\n",
    "])\n",
    "model.compile(optimizer='adam', loss='sparse_categorical_crossentropy', metrics=['accuracy'])\n",
    "model.summary()"
   ]
  },
  {
   "cell_type": "code",
   "execution_count": 188,
   "metadata": {},
   "outputs": [
    {
     "data": {
      "text/plain": [
       "(27486,)"
      ]
     },
     "execution_count": 188,
     "metadata": {},
     "output_type": "execute_result"
    }
   ],
   "source": [
    "label_train_sequences.shape"
   ]
  },
  {
   "cell_type": "code",
   "execution_count": 189,
   "metadata": {},
   "outputs": [
    {
     "name": "stdout",
     "output_type": "stream",
     "text": [
      "Train on 27486 samples, validate on 3535 samples\n",
      "Epoch 1/10\n",
      "27486/27486 [==============================] - 16s 587us/sample - loss: 1.0825 - accuracy: 0.4045 - val_loss: 1.0738 - val_accuracy: 0.4045\n",
      "Epoch 2/10\n",
      "27486/27486 [==============================] - 17s 606us/sample - loss: 0.9530 - accuracy: 0.5365 - val_loss: 0.8111 - val_accuracy: 0.6569\n",
      "Epoch 3/10\n",
      "27486/27486 [==============================] - 15s 550us/sample - loss: 0.7386 - accuracy: 0.6993 - val_loss: 0.7575 - val_accuracy: 0.6823\n",
      "Epoch 4/10\n",
      "27486/27486 [==============================] - 15s 555us/sample - loss: 0.6579 - accuracy: 0.7385 - val_loss: 0.7088 - val_accuracy: 0.7027\n",
      "Epoch 5/10\n",
      "27486/27486 [==============================] - 13s 489us/sample - loss: 0.6008 - accuracy: 0.7664 - val_loss: 0.7072 - val_accuracy: 0.7103\n",
      "Epoch 6/10\n",
      "27486/27486 [==============================] - 14s 525us/sample - loss: 0.5575 - accuracy: 0.7890 - val_loss: 0.7100 - val_accuracy: 0.7072\n",
      "Epoch 7/10\n",
      "27486/27486 [==============================] - 15s 561us/sample - loss: 0.5210 - accuracy: 0.8064 - val_loss: 0.7190 - val_accuracy: 0.7078\n",
      "Epoch 8/10\n",
      "27486/27486 [==============================] - 14s 525us/sample - loss: 0.4835 - accuracy: 0.8233 - val_loss: 0.7917 - val_accuracy: 0.6934\n",
      "Epoch 9/10\n",
      "27486/27486 [==============================] - 16s 576us/sample - loss: 0.4555 - accuracy: 0.8372 - val_loss: 0.7623 - val_accuracy: 0.7058\n",
      "Epoch 10/10\n",
      "27486/27486 [==============================] - 13s 476us/sample - loss: 0.4286 - accuracy: 0.8492 - val_loss: 0.7664 - val_accuracy: 0.7004\n"
     ]
    }
   ],
   "source": [
    "num_epochs = 10\n",
    "history = model.fit(padded, label_train_sequences, epochs=num_epochs, validation_data=(testing_padded, label_test_sequences))"
   ]
  },
  {
   "cell_type": "code",
   "execution_count": 170,
   "metadata": {},
   "outputs": [],
   "source": [
    "import matplotlib.pyplot as plt\n",
    "%matplotlib inline"
   ]
  },
  {
   "cell_type": "code",
   "execution_count": 171,
   "metadata": {},
   "outputs": [
    {
     "data": {
      "image/png": "[encoded data removed]",
      "text/plain": [
       "<Figure size 432x288 with 1 Axes>"
      ]
     },
     "metadata": {
      "needs_background": "light"
     },
     "output_type": "display_data"
    },
    {
     "data": {
      "image/png": "[encoded data removed]",
      "text/plain": [
       "<Figure size 432x288 with 1 Axes>"
      ]
     },
     "metadata": {
      "needs_background": "light"
     },
     "output_type": "display_data"
    }
   ],
   "source": [
    "def plot_graphs(history, string):\n",
    "    plt.plot(history.history[string])\n",
    "    plt.plot(history.history['val_'+string])\n",
    "    plt.xlabel(\"Epochs\")\n",
    "    plt.ylabel(string)\n",
    "    plt.legend([string, 'val_'+string])\n",
    "    plt.show()\n",
    "plot_graphs(history, \"accuracy\")\n",
    "plot_graphs(history, \"loss\")"
   ]
  },
  {
   "cell_type": "markdown",
   "metadata": {},
   "source": [
    "## TF IDF"
   ]
  },
  {
   "cell_type": "code",
   "execution_count": 201,
   "metadata": {},
   "outputs": [],
   "source": [
    "from sklearn.feature_extraction.text import TfidfVectorizer\n",
    "vec = TfidfVectorizer(ngram_range=(1,1), norm = False)\n",
    "data_train_TFIDF = vec.fit_transform(text_train_array)"
   ]
  },
  {
   "cell_type": "code",
   "execution_count": 202,
   "metadata": {},
   "outputs": [
    {
     "data": {
      "text/plain": [
       "24457"
      ]
     },
     "execution_count": 202,
     "metadata": {},
     "output_type": "execute_result"
    }
   ],
   "source": [
    "# vocabulaire extrait des features\n",
    "vocabulary = vec.get_feature_names()\n",
    "N_vocabulary = len(vocabulary)\n",
    "N_vocabulary"
   ]
  },
  {
   "cell_type": "code",
   "execution_count": 203,
   "metadata": {},
   "outputs": [
    {
     "data": {
      "text/plain": [
       "(27486, 24457)"
      ]
     },
     "execution_count": 203,
     "metadata": {},
     "output_type": "execute_result"
    }
   ],
   "source": [
    "data_train_TFIDF.shape"
   ]
  },
  {
   "cell_type": "code",
   "execution_count": null,
   "metadata": {},
   "outputs": [],
   "source": []
  },
  {
   "cell_type": "code",
   "execution_count": null,
   "metadata": {},
   "outputs": [],
   "source": []
  }
 ],
 "metadata": {
  "kernelspec": {
   "display_name": "Python 3.6.9 64-bit",
   "language": "python",
   "name": "python36964bit380cb8d6f6b94e44b14dba84877440c8"
  },
  "language_info": {
   "codemirror_mode": {
    "name": "ipython",
    "version": 3
   },
   "file_extension": ".py",
   "mimetype": "text/x-python",
   "name": "python",
   "nbconvert_exporter": "python",
   "pygments_lexer": "ipython3",
   "version": "3.6.9"
  }
 },
 "nbformat": 4,
 "nbformat_minor": 2
}
